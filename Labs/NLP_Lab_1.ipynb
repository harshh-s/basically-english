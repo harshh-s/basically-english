{
  "nbformat": 4,
  "nbformat_minor": 0,
  "metadata": {
    "colab": {
      "name": "NLP Lab 1.ipynb",
      "provenance": [],
      "collapsed_sections": [],
      "authorship_tag": "ABX9TyM72JqjImaK2UeNK6+7je9u",
      "include_colab_link": true
    },
    "kernelspec": {
      "name": "python3",
      "display_name": "Python 3"
    },
    "language_info": {
      "name": "python"
    }
  },
  "cells": [
    {
      "cell_type": "markdown",
      "metadata": {
        "id": "view-in-github",
        "colab_type": "text"
      },
      "source": [
        "<a href=\"https://colab.research.google.com/github/harshh-s/basically-english/blob/main/NLP_Lab_1.ipynb\" target=\"_parent\"><img src=\"https://colab.research.google.com/assets/colab-badge.svg\" alt=\"Open In Colab\"/></a>"
      ]
    },
    {
      "cell_type": "markdown",
      "metadata": {
        "id": "R_Eyd_9hRrJl"
      },
      "source": [
        "<font face=\"Georgia\">\n",
        "\n",
        "*Harsh Seksaria*\n",
        "\n",
        "*2048011*\n",
        "\n",
        "*3 MDS*\n",
        "\n",
        "**Natural Language Processing Lab - 1**\n",
        "\n",
        "**CHRIST (Deemed to be University)**"
      ]
    },
    {
      "cell_type": "code",
      "metadata": {
        "colab": {
          "base_uri": "https://localhost:8080/",
          "height": 0
        },
        "id": "_mdzWkFQPueu",
        "outputId": "029d500b-d9e0-492f-fed0-2ef9e9f7fcfe"
      },
      "source": [
        "#Install nltk\n",
        "!pip install nltk"
      ],
      "execution_count": 1,
      "outputs": [
        {
          "output_type": "stream",
          "text": [
            "Requirement already satisfied: nltk in /usr/local/lib/python3.7/dist-packages (3.2.5)\n",
            "Requirement already satisfied: six in /usr/local/lib/python3.7/dist-packages (from nltk) (1.15.0)\n"
          ],
          "name": "stdout"
        }
      ]
    },
    {
      "cell_type": "code",
      "metadata": {
        "id": "0Z7XEbNhSU3c"
      },
      "source": [
        "#1. Import nltk and download all collections\n",
        "import nltk\n",
        "nltk.download('all')"
      ],
      "execution_count": null,
      "outputs": []
    },
    {
      "cell_type": "code",
      "metadata": {
        "colab": {
          "base_uri": "https://localhost:8080/",
          "height": 0
        },
        "id": "nINhKp-vSvY_",
        "outputId": "8dd21ba5-b4d7-4aa0-a128-71685a505609"
      },
      "source": [
        "#2. Import and display one of the corpus\n",
        "from nltk.corpus import product_reviews_1\n",
        "product_reviews_1.words()"
      ],
      "execution_count": 12,
      "outputs": [
        {
          "output_type": "execute_result",
          "data": {
            "text/plain": [
              "['repost', 'from', 'january', '13', ',', '2004', ...]"
            ]
          },
          "metadata": {
            "tags": []
          },
          "execution_count": 12
        }
      ]
    },
    {
      "cell_type": "code",
      "metadata": {
        "colab": {
          "base_uri": "https://localhost:8080/",
          "height": 0
        },
        "id": "VnBkml4ITFwe",
        "outputId": "884c1df7-53c6-449d-9fcd-bc3623ddb058"
      },
      "source": [
        "#3. Import and display words from the corpus\n",
        "from nltk.corpus import indian\n",
        "indian.words()"
      ],
      "execution_count": 18,
      "outputs": [
        {
          "output_type": "execute_result",
          "data": {
            "text/plain": [
              "['মহিষের', 'সন্তান', ':', 'তোড়া', 'উপজাতি', '৷', ...]"
            ]
          },
          "metadata": {
            "tags": []
          },
          "execution_count": 18
        }
      ]
    },
    {
      "cell_type": "code",
      "metadata": {
        "colab": {
          "base_uri": "https://localhost:8080/",
          "height": 0
        },
        "id": "1AQSQ2D_UYfP",
        "outputId": "5d05123d-6ec5-4a66-c406-30b953e992bc"
      },
      "source": [
        "#4. Perform “Searching Text” from a corpus and display the results\n",
        "from nltk.book import *\n",
        "#4.1 Searching \"mind\" in text2\n",
        "text2.concordance('mind')"
      ],
      "execution_count": 29,
      "outputs": [
        {
          "output_type": "stream",
          "text": [
            "Displaying 25 of 100 matches:\n",
            "een highly unpleasing ;-- but in HER mind there was a sense of honor so keen ,\n",
            "tage of them all , that eagerness of mind in Mrs . Dashwood which must general\n",
            "elight , was exactly what suited her mind . In seasons of cheerfulness , no te\n",
            "er spirits began to revive , and her mind became capable of some other exertio\n",
            " not disturb the wretchedness of her mind by ill - timed conversation . She wa\n",
            "ting the minuter propensities of his mind , his inclinations and tastes , as y\n",
            "le , I venture to pronounce that his mind is well - informed , enjoyment of bo\n",
            " likely to produce that dejection of mind which frequently attended him . A mo\n",
            "a pretty girl could want to make her mind as captivating as her person . The f\n",
            "ld describe to her the shades of his mind . \" But who is he ?\" said Elinor . \"\n",
            "ing person , but a natural ardour of mind which was now roused and increased b\n",
            "e strong . Her mother too , in whose mind not one speculative thought of their\n",
            "road , has read , and has a thinking mind . I have found him capable of giving\n",
            "rong affection in a young and ardent mind . This was the season of happiness t\n",
            "amiable in the prejudices of a young mind , that one is sorry to see them give\n",
            " the romantic refinements of a young mind are obliged to give way , how freque\n",
            "I once knew a lady who in temper and mind greatly resembled your sister , who \n",
            " is no persuading you to change your mind , Brandon , I know of old ,\" said Si\n",
            "ney . But you had better change your mind .\" \" I assure you it is not in my po\n",
            "ght procure a tolerable composure of mind by driving about the country . The c\n",
            "in concealing its cause , filled the mind , and raised the wonder of Mrs . Jen\n",
            ", that a doubt sometimes entered her mind of their being really engaged , and \n",
            "hiefly in silence , for Marianne ' s MIND could not be controlled , and Elinor\n",
            "time , and it ended in an absence of mind still more settled . He was particul\n",
            "ood to me .\" This desponding turn of mind , though it could not be communicate\n"
          ],
          "name": "stdout"
        }
      ]
    },
    {
      "cell_type": "code",
      "metadata": {
        "colab": {
          "base_uri": "https://localhost:8080/",
          "height": 0
        },
        "id": "AEc8s910VPKY",
        "outputId": "0513497c-159f-4485-b599-1c9f345cae1b"
      },
      "source": [
        "#4.2 Searching \"crime\" in text7\n",
        "text7.concordance('crime')"
      ],
      "execution_count": 34,
      "outputs": [
        {
          "output_type": "stream",
          "text": [
            "Displaying 6 of 6 matches:\n",
            "tein , after he committed the social crime of * making an appointment * to see \n",
            "ing , `` If you want *-2 to keep the crime rates high , O'Connor is your man . \n",
            "a law that *T*-79 makes it *EXP*-2 a crime * to breach test security . In Septe\n",
            " Ward , the school 's principal . `` Crime was awful , test scores were low , a\n",
            " , when Congress determined that the crime was a felony punishable by up to 10 \n",
            "d received assistance from organized crime . Sometimes the bribed became partne\n"
          ],
          "name": "stdout"
        }
      ]
    },
    {
      "cell_type": "code",
      "metadata": {
        "colab": {
          "base_uri": "https://localhost:8080/",
          "height": 328
        },
        "id": "22UFn9ktVppy",
        "outputId": "a13001ad-e98f-4d57-8271-a99bcd227a0e"
      },
      "source": [
        "#5. Count and display how often a word occurs in a text and plot the same\n",
        "para = \"\"\"Natural language processing (NLP) is the ability of a computer program to understand human language as it is spoken and written -- referred to as natural language. It is a component of artificial intelligence (AI).\n",
        "\n",
        "NLP has existed for more than 50 years and has roots in the field of linguistics. It has a variety of real-world applications in a number of fields, including medical research, search engines and business intelligence. NLP enables computers to understand natural language as humans do. Whether the language is spoken or written, natural language processing uses artificial intelligence to take real-world input, process it, and make sense of it in a way a computer can understand. Just as humans have different sensors -- such as ears to hear and eyes to see -- computers have programs to read and microphones to collect audio. And just as humans have a brain to process that input, computers have a program to process their respective inputs. At some point in processing, the input is converted to code that the computer can understand.\n",
        "\n",
        "There are two main phases to natural language processing: data preprocessing and algorithm development.\n",
        "\n",
        "Data preprocessing involves preparing and \"cleaning\" text data for machines to be able to analyze it. preprocessing puts data in workable form and highlights features in the text that an algorithm can work with.\"\"\"\n",
        "#Tokeinze words\n",
        "token = nltk.tokenize.word_tokenize(para)\n",
        "#Create the frequency distribution\n",
        "fd = nltk.FreqDist(token)\n",
        "#Plot the created frequency distribution\n",
        "fd.plot(25,cumulative=False)"
      ],
      "execution_count": 39,
      "outputs": [
        {
          "output_type": "display_data",
          "data": {
            "image/png": "[encoded data removed]",
            "text/plain": [
              "<Figure size 432x288 with 1 Axes>"
            ]
          },
          "metadata": {
            "tags": [],
            "needs_background": "light"
          }
        }
      ]
    }
  ]
}